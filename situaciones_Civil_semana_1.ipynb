{
  "nbformat": 4,
  "nbformat_minor": 0,
  "metadata": {
    "colab": {
      "provenance": [],
      "authorship_tag": "ABX9TyMcJ1h6/UIOT2czEqbdWyOI",
      "include_colab_link": true
    },
    "kernelspec": {
      "name": "python3",
      "display_name": "Python 3"
    },
    "language_info": {
      "name": "python"
    }
  },
  "cells": [
    {
      "cell_type": "markdown",
      "metadata": {
        "id": "view-in-github",
        "colab_type": "text"
      },
      "source": [
        "<a href=\"https://colab.research.google.com/github/LuisSalgado2321/situaciones_Civil_semana_1/blob/main/situaciones_Civil_semana_1.ipynb\" target=\"_parent\"><img src=\"https://colab.research.google.com/assets/colab-badge.svg\" alt=\"Open In Colab\"/></a>"
      ]
    },
    {
      "cell_type": "code",
      "execution_count": null,
      "metadata": {
        "id": "lTdfNPvKGvNN"
      },
      "outputs": [],
      "source": []
    },
    {
      "cell_type": "markdown",
      "source": [
        "#Situación de Interés en Ingeniería Agrícola :\n",
        "Un agricultor necesita saber cuántos kilogramos\n",
        "de semilla de maíz debe comprar para sembrar un lote rectangular. Conoce la densidad de siembra\n",
        "recomendada (kg por hectárea) y las dimensiones del lote (largo y ancho en metros)."
      ],
      "metadata": {
        "id": "Jw750NvhJDSK"
      }
    },
    {
      "cell_type": "code",
      "source": [
        " #calculo de Semillas\n",
        " # 1.  Saludar al usuario y explicar que hace el programa\n",
        " print(\"Bienvenidos a calculos de semillas\")\n",
        "\n",
        " # 2.  pedir al usuario que ingrese el largo del lote en metros (input sin conversion)\n",
        " largo = input(\"Ingrese el largo del lote en metros: \")\n",
        "\n",
        " # 3.  pedir el ancho del lote en metros (input sin conversion)\n",
        " ancho = input(\"Ingrese el ancho del lote en metros: \")\n",
        "\n",
        " # 4. pedir la densidad de siembra en kg/hectarea (input)\n",
        " densidad = input(\"Ingrese la densidad de siembra en kg/hectarea: \")\n",
        "\n",
        " # 5. convertir las entradas de texto a numeros decimales (float)\n",
        " largo = float(largo)\n",
        " ancho = float(ancho)\n",
        " densidad = float(densidad)\n",
        "\n",
        "# 6 Calcular el área en metros cuadrados (largo * ancho)\n",
        "area = largo * ancho\n",
        "\n",
        "# 7. Convertir el área a hectáreas (1 hectárea = 10,000 m²)\n",
        "area = area/10000\n",
        "\n",
        "# 8. Calcular la cantidad total de semilla (área en hectáreas * densidad)\n",
        "semillas = area * densidad\n",
        "\n",
        "# 9. Mostrar el resultado final al usuario de forma clara (print).\n",
        "print(\"la cantidad de semillas a comprar es:\", semillas, \"kg\")\n"
      ],
      "metadata": {
        "colab": {
          "base_uri": "https://localhost:8080/",
          "height": 106
        },
        "id": "YXJxl-LZJPMy",
        "outputId": "ea3a3625-c6cb-4826-c994-e49c31ead4f9"
      },
      "execution_count": 2,
      "outputs": [
        {
          "output_type": "error",
          "ename": "SyntaxError",
          "evalue": "invalid syntax (ipython-input-892758059.py, line 3)",
          "traceback": [
            "\u001b[0;36m  File \u001b[0;32m\"/tmp/ipython-input-892758059.py\"\u001b[0;36m, line \u001b[0;32m3\u001b[0m\n\u001b[0;31m    3 print(\"Bienvenidos a calculos de semillas\")\u001b[0m\n\u001b[0m      ^\u001b[0m\n\u001b[0;31mSyntaxError\u001b[0m\u001b[0;31m:\u001b[0m invalid syntax\n"
          ]
        }
      ]
    },
    {
      "cell_type": "code",
      "source": [],
      "metadata": {
        "id": "AJ3_ebwUMDA-"
      },
      "execution_count": null,
      "outputs": []
    }
  ]
}